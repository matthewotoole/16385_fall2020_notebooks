{
 "cells": [
  {
   "cell_type": "markdown",
   "metadata": {},
   "source": [
    "# Lecture 2: Image Filtering\n",
    "\n",
    "CMU 16-385 Computer Vision, Fall 2020 (http://16385.courses.cs.cmu.edu/)"
   ]
  },
  {
   "cell_type": "markdown",
   "metadata": {},
   "source": [
    "## Part 1: What is an image?"
   ]
  },
  {
   "cell_type": "code",
   "execution_count": null,
   "metadata": {},
   "outputs": [],
   "source": [
    "import cv2\n",
    "import numpy as np\n",
    "from matplotlib import pyplot as plt\n",
    "from mpl_toolkits import mplot3d\n",
    "from skimage import io as io_url"
   ]
  },
  {
   "cell_type": "code",
   "execution_count": null,
   "metadata": {},
   "outputs": [],
   "source": [
    "frame = io_url.imread('http://16385.courses.cs.cmu.edu/fall2020/assets/images/data/scotty.jpg')\n",
    "frame = np.float32(frame) / 255\n",
    "\n",
    "plt.imshow(frame)"
   ]
  },
  {
   "cell_type": "code",
   "execution_count": null,
   "metadata": {},
   "outputs": [],
   "source": [
    "fig = plt.figure(figsize=(12, 12));\n",
    "fig.subplots_adjust(hspace=0.4, wspace=0.4);\n",
    "\n",
    "ax = fig.add_subplot(1, 3, 1);\n",
    "ax.set_title('Red');\n",
    "ax.imshow(frame[:,:,0], cmap=\"gray\");\n",
    "ax.set_xticks([]); ax.set_yticks([]);\n",
    "\n",
    "ax = fig.add_subplot(1, 3, 2);\n",
    "ax.set_title('Green');\n",
    "ax.imshow(frame[:,:,1], cmap=\"gray\");\n",
    "ax.set_xticks([]); ax.set_yticks([]);\n",
    "\n",
    "ax = fig.add_subplot(1, 3, 3);\n",
    "ax.set_title('Blue');\n",
    "ax.imshow(frame[:,:,2], cmap=\"gray\");\n",
    "ax.set_xticks([]); ax.set_yticks([]);"
   ]
  },
  {
   "cell_type": "code",
   "execution_count": null,
   "metadata": {},
   "outputs": [],
   "source": [
    "x = range(frame.shape[0]);\n",
    "y = range(frame.shape[1]);\n",
    "\n",
    "X, Y = np.meshgrid(y, x);\n",
    "\n",
    "fig = plt.figure();\n",
    "ax = plt.axes(projection='3d');\n",
    "ax.plot_surface(X, Y, frame[:,:,0], cmap='jet');"
   ]
  },
  {
   "cell_type": "markdown",
   "metadata": {},
   "source": [
    "## Part 2: Point processing"
   ]
  },
  {
   "cell_type": "code",
   "execution_count": null,
   "metadata": {},
   "outputs": [],
   "source": [
    "fig = plt.figure(figsize=(16, 8));\n",
    "fig.subplots_adjust(hspace=0.1, wspace=0.1);\n",
    "\n",
    "ax = fig.add_subplot(2, 4, 1);\n",
    "ax.set_title('Original');\n",
    "ax.imshow(frame);\n",
    "ax.set_xticks([]); ax.set_yticks([]);\n",
    "\n",
    "ax = fig.add_subplot(2, 4, 2);\n",
    "ax.set_title('Darken');\n",
    "ax.imshow(np.clip(frame - 0.5, 0, 1));\n",
    "ax.set_xticks([]); ax.set_yticks([]);\n",
    "\n",
    "ax = fig.add_subplot(2, 4, 3);\n",
    "ax.set_title('Lower contrast');\n",
    "ax.imshow(frame / 2);\n",
    "ax.set_xticks([]); ax.set_yticks([]);\n",
    "\n",
    "ax = fig.add_subplot(2, 4, 4);\n",
    "ax.set_title('Non-linear lower contrast');\n",
    "ax.imshow(frame**(1/3));\n",
    "ax.set_xticks([]); ax.set_yticks([]);\n",
    "\n",
    "ax = fig.add_subplot(2, 4, 5);\n",
    "ax.set_title('Invert');\n",
    "ax.imshow(1 - frame);\n",
    "ax.set_xticks([]); ax.set_yticks([]);\n",
    "\n",
    "ax = fig.add_subplot(2, 4, 6);\n",
    "ax.set_title('Lighten');\n",
    "ax.imshow(np.clip(frame + 0.5, 0, 1));\n",
    "ax.set_xticks([]); ax.set_yticks([]);\n",
    "\n",
    "ax = fig.add_subplot(2, 4, 7);\n",
    "ax.set_title('Raise contrast');\n",
    "ax.imshow(np.clip(frame * 2, 0, 1));\n",
    "ax.set_xticks([]); ax.set_yticks([]);\n",
    "\n",
    "ax = fig.add_subplot(2, 4, 8);\n",
    "ax.set_title('Non-linear raise contrast');\n",
    "ax.imshow(frame**2);\n",
    "ax.set_xticks([]); ax.set_yticks([]);"
   ]
  },
  {
   "cell_type": "markdown",
   "metadata": {},
   "source": [
    "## Part 3: Linear shift-invariant image filtering"
   ]
  },
  {
   "cell_type": "code",
   "execution_count": null,
   "metadata": {},
   "outputs": [],
   "source": [
    "fig = plt.figure(figsize=(16, 8));\n",
    "\n",
    "# Box filter\n",
    "N = 10;\n",
    "g = np.ones((N,N))/(N**2);\n",
    "\n",
    "image = cv2.filter2D(frame,-1,g);\n",
    "plt.imshow(image);"
   ]
  },
  {
   "cell_type": "code",
   "execution_count": null,
   "metadata": {},
   "outputs": [],
   "source": [
    "fig = plt.figure(figsize=(16, 8));\n",
    "\n",
    "# Sharpening filter\n",
    "N = 3;\n",
    "g = -np.ones((N,N))/(N**2);\n",
    "g[(N-1)//2,(N-1)//2] += 2;\n",
    "\n",
    "image = cv2.filter2D(frame,-1,g);\n",
    "plt.imshow(np.clip(image,0,1),cmap='gray');"
   ]
  },
  {
   "cell_type": "markdown",
   "metadata": {},
   "source": [
    "## Part 4: Image gradients"
   ]
  },
  {
   "cell_type": "code",
   "execution_count": null,
   "metadata": {},
   "outputs": [],
   "source": [
    "k = 7 # Kernel size\n",
    "\n",
    "laplacian = cv2.Laplacian(frame,-1,ksize=k)\n",
    "sobel_x = cv2.Sobel(frame,-1,1,0,ksize=k)\n",
    "sobel_y = cv2.Sobel(frame,-1,0,1,ksize=k)\n",
    "\n",
    "fig = plt.figure(figsize=(8, 8));\n",
    "fig.subplots_adjust(hspace=0.1, wspace=0.1);\n",
    "\n",
    "ax = fig.add_subplot(2, 2, 1);\n",
    "ax.set_title('Original');\n",
    "ax.imshow((frame), cmap='gray');\n",
    "ax.set_xticks([]); ax.set_yticks([]);\n",
    "\n",
    "ax = fig.add_subplot(2, 2, 2);\n",
    "ax.set_title('Sobel X');\n",
    "ax.imshow(np.abs(sobel_x)/np.abs(sobel_x).max(), cmap='gray');\n",
    "ax.set_xticks([]); ax.set_yticks([]);\n",
    "\n",
    "ax = fig.add_subplot(2, 2, 3);\n",
    "ax.set_title('Sobel Y');\n",
    "ax.imshow(np.abs(sobel_y)/np.abs(sobel_y).max(), cmap='gray');\n",
    "ax.set_xticks([]); ax.set_yticks([]);\n",
    "\n",
    "ax = fig.add_subplot(2, 2, 4);\n",
    "ax.set_title('Laplacian');\n",
    "ax.imshow(np.abs(laplacian)/np.abs(laplacian).max(), cmap='gray');\n",
    "ax.set_xticks([]); ax.set_yticks([]);"
   ]
  },
  {
   "cell_type": "code",
   "execution_count": null,
   "metadata": {},
   "outputs": [],
   "source": []
  }
 ],
 "metadata": {
  "hide_input": false,
  "kernelspec": {
   "display_name": "Python 3",
   "language": "python",
   "name": "python3"
  },
  "language_info": {
   "codemirror_mode": {
    "name": "ipython",
    "version": 3
   },
   "file_extension": ".py",
   "mimetype": "text/x-python",
   "name": "python",
   "nbconvert_exporter": "python",
   "pygments_lexer": "ipython3",
   "version": "3.6.12"
  },
  "latex_envs": {
   "bibliofile": "biblio.bib",
   "cite_by": "apalike",
   "current_citInitial": 1,
   "eqLabelWithNumbers": true,
   "eqNumInitial": 0
  }
 },
 "nbformat": 4,
 "nbformat_minor": 2
}
