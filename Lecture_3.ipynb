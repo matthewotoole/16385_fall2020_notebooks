{
 "cells": [
  {
   "cell_type": "code",
   "execution_count": 3,
   "metadata": {},
   "outputs": [],
   "source": [
    "import ipywidgets as widgets\n",
    "import numpy as np\n",
    "import cv2\n",
    "from IPython.display import display\n",
    "import matplotlib.pyplot as plt\n",
    "\n",
    "B = plt.imread('scotty.jpg');\n",
    "B = np.flip(B,2)\n",
    "B = B[:,:,1]\n",
    "\n",
    "B = cv2.resize(B,(100, 100))"
   ]
  },
  {
   "cell_type": "code",
   "execution_count": 9,
   "metadata": {},
   "outputs": [
    {
     "data": {
      "application/vnd.jupyter.widget-view+json": {
       "model_id": "28943f765b9e4a88a9c8656bedd6336d",
       "version_major": 2,
       "version_minor": 0
      },
      "text/plain": [
       "HBox(children=(Image(value=b'\\xff\\xd8\\xff\\xe0\\x00\\x10JFIF\\x00\\x01\\x01\\x00\\x00\\x01\\x00\\x01\\x00\\x00\\xff\\xdb\\x00C…"
      ]
     },
     "metadata": {},
     "output_type": "display_data"
    },
    {
     "data": {
      "application/vnd.jupyter.widget-view+json": {
       "model_id": "63a2729a5db549d69c1a3e3bdf001763",
       "version_major": 2,
       "version_minor": 0
      },
      "text/plain": [
       "FloatSlider(value=0.0, max=6.283185307179586, step=0.01)"
      ]
     },
     "metadata": {},
     "output_type": "display_data"
    },
    {
     "data": {
      "application/vnd.jupyter.widget-view+json": {
       "model_id": "095dca58e0c14b609466ab6753370b42",
       "version_major": 2,
       "version_minor": 0
      },
      "text/plain": [
       "Output()"
      ]
     },
     "metadata": {},
     "output_type": "display_data"
    },
    {
     "data": {
      "application/vnd.jupyter.widget-view+json": {
       "model_id": "75152d2300ea4e63bf42771879d872c8",
       "version_major": 2,
       "version_minor": 0
      },
      "text/plain": [
       "FloatSlider(value=0.0, max=49.0, step=0.01)"
      ]
     },
     "metadata": {},
     "output_type": "display_data"
    },
    {
     "data": {
      "application/vnd.jupyter.widget-view+json": {
       "model_id": "76941e44e7204245a8d6b840706772a2",
       "version_major": 2,
       "version_minor": 0
      },
      "text/plain": [
       "Output()"
      ]
     },
     "metadata": {},
     "output_type": "display_data"
    }
   ],
   "source": [
    "int_range = widgets.FloatSlider(value=0,min=0,max=2*np.pi, step=0.01)\n",
    "int_range2 = widgets.FloatSlider(value=0,min=0,max=49, step=0.01)\n",
    "output2 = widgets.Output()\n",
    "output3 = widgets.Output()\n",
    "\n",
    "x = np.fft.fftfreq(100);#np.linspace(-1,1,100)\n",
    "y = np.fft.fftfreq(100);#np.linspace(-1,1,100)\n",
    "xv, yv = np.meshgrid(x, y)\n",
    "\n",
    "xv = np.fft.fftshift(xv)\n",
    "yv = np.fft.fftshift(yv)\n",
    "\n",
    "wi1 = widgets.Image(format='png', width=300, height=300)\n",
    "wi2 = widgets.Image(format='png', width=300, height=300)\n",
    "sidebyside = widgets.HBox([wi1, wi2])\n",
    "\n",
    "\n",
    "def on_value_change(change):\n",
    "    #with output2, output3:\n",
    "        theta = int_range.value\n",
    "        rho   = int_range2.value\n",
    "        \n",
    "        x = np.round(rho*np.cos(theta))\n",
    "        y = np.round(rho*np.sin(theta))\n",
    "        \n",
    "        fC = np.zeros((100,100))\n",
    "        fC[int(50),int(50)] = 2*100*100\n",
    "        fC[int(50+x),int(50+y)] = 100*100\n",
    "        fC[int(50-x),int(50-y)] = 100*100\n",
    "        \n",
    "        C = np.fft.ifft2(np.fft.ifftshift(fC))\n",
    "        C = np.abs(C)\n",
    "        \n",
    "        success, frame_bytes = cv2.imencode('.jpeg', 50*C)\n",
    "        wi1.value = frame_bytes.tobytes()\n",
    "        success, frame_bytes = cv2.imencode('.jpeg', np.abs(fC))\n",
    "        wi2.value = frame_bytes.tobytes()\n",
    "        \n",
    "int_range.observe(on_value_change, names='value')\n",
    "int_range2.observe(on_value_change, names='value')\n",
    "\n",
    "on_value_change(0)\n",
    "\n",
    "#display(image)\n",
    "display(sidebyside)\n",
    "display(int_range, output2)\n",
    "display(int_range2, output3)"
   ]
  },
  {
   "cell_type": "code",
   "execution_count": 6,
   "metadata": {},
   "outputs": [
    {
     "data": {
      "application/vnd.jupyter.widget-view+json": {
       "model_id": "d8c682a4f5a443a4bee96c82fe5ebdf0",
       "version_major": 2,
       "version_minor": 0
      },
      "text/plain": [
       "HBox(children=(Image(value=b'\\xff\\xd8\\xff\\xe0\\x00\\x10JFIF\\x00\\x01\\x01\\x00\\x00\\x01\\x00\\x01\\x00\\x00\\xff\\xdb\\x00C…"
      ]
     },
     "metadata": {},
     "output_type": "display_data"
    },
    {
     "data": {
      "application/vnd.jupyter.widget-view+json": {
       "model_id": "60d2cf2004c4446fabd3bb855eca9e4c",
       "version_major": 2,
       "version_minor": 0
      },
      "text/plain": [
       "FloatSlider(value=0.0, max=50.0, step=0.01)"
      ]
     },
     "metadata": {},
     "output_type": "display_data"
    },
    {
     "data": {
      "application/vnd.jupyter.widget-view+json": {
       "model_id": "53be30c0e6984f088af24989202657b1",
       "version_major": 2,
       "version_minor": 0
      },
      "text/plain": [
       "Output()"
      ]
     },
     "metadata": {},
     "output_type": "display_data"
    }
   ],
   "source": [
    "int_range = widgets.FloatSlider(value=0,min=0,max=50, step=0.01)\n",
    "int_range2 = widgets.FloatSlider(value=0,min=0,max=50, step=0.01)\n",
    "output2 = widgets.Output()\n",
    "output3 = widgets.Output()\n",
    "\n",
    "x = np.fft.fftfreq(100);#np.linspace(-1,1,100)\n",
    "y = np.fft.fftfreq(100);#np.linspace(-1,1,100)\n",
    "xv, yv = np.meshgrid(x, y)\n",
    "\n",
    "xv = np.fft.fftshift(xv)\n",
    "yv = np.fft.fftshift(yv)\n",
    "\n",
    "wi1 = widgets.Image(format='png', width=300, height=300)\n",
    "wi2 = widgets.Image(format='png', width=300, height=300)\n",
    "sidebyside = widgets.HBox([wi1, wi2])\n",
    "\n",
    "\n",
    "def on_value_change(change):\n",
    "    #with output2, output3:\n",
    "        x = int_range.value\n",
    "        \n",
    "        C = np.zeros((100,100))\n",
    "        C[int(50-x):int(50+x),int(50-x):int(50+x)] = 1\n",
    "        \n",
    "        fC = np.fft.fftshift(np.fft.fft2(C))\n",
    "        fC = np.abs(fC)\n",
    "        \n",
    "        success, frame_bytes = cv2.imencode('.jpeg', 255*C)\n",
    "        wi1.value = frame_bytes.tobytes()\n",
    "        success, frame_bytes = cv2.imencode('.jpeg', 255*np.sqrt(np.abs(fC)/255))\n",
    "        wi2.value = frame_bytes.tobytes()\n",
    "        \n",
    "int_range.observe(on_value_change, names='value')\n",
    "int_range2.observe(on_value_change, names='value')\n",
    "\n",
    "on_value_change(0)\n",
    "\n",
    "#display(image)\n",
    "display(sidebyside)\n",
    "display(int_range, output2)\n",
    "#display(int_range2, output3)"
   ]
  },
  {
   "cell_type": "code",
   "execution_count": 7,
   "metadata": {
    "scrolled": false
   },
   "outputs": [
    {
     "data": {
      "application/vnd.jupyter.widget-view+json": {
       "model_id": "32feeb95e97e4477b4752776ec10825e",
       "version_major": 2,
       "version_minor": 0
      },
      "text/plain": [
       "HBox(children=(Image(value=b'\\xff\\xd8\\xff\\xe0\\x00\\x10JFIF\\x00\\x01\\x01\\x00\\x00\\x01\\x00\\x01\\x00\\x00\\xff\\xdb\\x00C…"
      ]
     },
     "metadata": {},
     "output_type": "display_data"
    },
    {
     "data": {
      "application/vnd.jupyter.widget-view+json": {
       "model_id": "2a66a4e0c3764bbb9f23bd1f3a4dc879",
       "version_major": 2,
       "version_minor": 0
      },
      "text/plain": [
       "FloatSlider(value=0.1, max=1.44, min=0.1, step=0.01)"
      ]
     },
     "metadata": {},
     "output_type": "display_data"
    },
    {
     "data": {
      "application/vnd.jupyter.widget-view+json": {
       "model_id": "59855ce4a2344cd48ed177c41e2760b2",
       "version_major": 2,
       "version_minor": 0
      },
      "text/plain": [
       "Output()"
      ]
     },
     "metadata": {},
     "output_type": "display_data"
    }
   ],
   "source": [
    "int_range = widgets.FloatSlider(value=0,min=0.1,max=1.44, step=0.01)\n",
    "int_range2 = widgets.FloatSlider(value=0,min=0,max=50, step=0.01)\n",
    "output2 = widgets.Output()\n",
    "output3 = widgets.Output()\n",
    "\n",
    "x = np.fft.fftfreq(100);#np.linspace(-1,1,100)\n",
    "y = np.fft.fftfreq(100);#np.linspace(-1,1,100)\n",
    "xv, yv = np.meshgrid(x, y)\n",
    "\n",
    "xv = np.fft.fftshift(xv)\n",
    "yv = np.fft.fftshift(yv)\n",
    "\n",
    "wi1 = widgets.Image(format='png', width=300, height=300)\n",
    "wi2 = widgets.Image(format='png', width=300, height=300)\n",
    "sidebyside = widgets.HBox([wi1, wi2])\n",
    "\n",
    "\n",
    "def on_value_change(change):\n",
    "    #with output2, output3:\n",
    "        sigma = int_range.value**2\n",
    "        \n",
    "        C = np.zeros((99,99))\n",
    "        \n",
    "        xv, yv = np.meshgrid(np.linspace(-1,1,99), np.linspace(-1,1,99))\n",
    "        \n",
    "        C = np.exp(-(xv**2 + yv**2)/(sigma**2))/sigma\n",
    "        \n",
    "        fC = np.fft.fftshift(np.fft.fft2(C))\n",
    "        fC = np.abs(fC)\n",
    "        \n",
    "        success, frame_bytes = cv2.imencode('.jpeg', 255*C/C.max())\n",
    "        wi1.value = frame_bytes.tobytes()\n",
    "        success, frame_bytes = cv2.imencode('.jpeg', 255*fC/fC.max())\n",
    "        wi2.value = frame_bytes.tobytes()\n",
    "        \n",
    "int_range.observe(on_value_change, names='value')\n",
    "int_range2.observe(on_value_change, names='value')\n",
    "\n",
    "on_value_change(0)\n",
    "\n",
    "#display(image)\n",
    "display(sidebyside)\n",
    "display(int_range, output2)\n",
    "#display(int_range2, output3)"
   ]
  },
  {
   "cell_type": "code",
   "execution_count": 10,
   "metadata": {},
   "outputs": [
    {
     "data": {
      "application/vnd.jupyter.widget-view+json": {
       "model_id": "c26c9f0d572b42e585d0d668b18a98b4",
       "version_major": 2,
       "version_minor": 0
      },
      "text/plain": [
       "HBox(children=(Image(value=b'\\xff\\xd8\\xff\\xe0\\x00\\x10JFIF\\x00\\x01\\x01\\x00\\x00\\x01\\x00\\x01\\x00\\x00\\xff\\xdb\\x00C…"
      ]
     },
     "metadata": {},
     "output_type": "display_data"
    },
    {
     "data": {
      "application/vnd.jupyter.widget-view+json": {
       "model_id": "c2c4a1dd0e144cd5883924d7e6ac902f",
       "version_major": 2,
       "version_minor": 0
      },
      "text/plain": [
       "FloatSlider(value=0.72, max=0.72, step=0.01)"
      ]
     },
     "metadata": {},
     "output_type": "display_data"
    },
    {
     "data": {
      "application/vnd.jupyter.widget-view+json": {
       "model_id": "29244a14a0f54a86b124f0a6243a1752",
       "version_major": 2,
       "version_minor": 0
      },
      "text/plain": [
       "Output()"
      ]
     },
     "metadata": {},
     "output_type": "display_data"
    },
    {
     "data": {
      "application/vnd.jupyter.widget-view+json": {
       "model_id": "cd161962e3b14c7aa3ec71131da23663",
       "version_major": 2,
       "version_minor": 0
      },
      "text/plain": [
       "FloatSlider(value=0.0, max=1.0, step=0.01)"
      ]
     },
     "metadata": {},
     "output_type": "display_data"
    },
    {
     "data": {
      "application/vnd.jupyter.widget-view+json": {
       "model_id": "c854808f79ec421a8162c9d80be18a9d",
       "version_major": 2,
       "version_minor": 0
      },
      "text/plain": [
       "Output()"
      ]
     },
     "metadata": {},
     "output_type": "display_data"
    }
   ],
   "source": [
    "int_range = widgets.FloatSlider(value=1.44/2,min=0,max=1.44/2, step=0.01)\n",
    "int_range2 = widgets.FloatSlider(value=0,min=0,max=1, step=0.01)\n",
    "output2 = widgets.Output()\n",
    "output3 = widgets.Output()\n",
    "\n",
    "x = np.fft.fftfreq(100);#np.linspace(-1,1,100)\n",
    "y = np.fft.fftfreq(100);#np.linspace(-1,1,100)\n",
    "xv, yv = np.meshgrid(x, y)\n",
    "\n",
    "xv = np.fft.fftshift(xv)\n",
    "yv = np.fft.fftshift(yv)\n",
    "\n",
    "wi1 = widgets.Image(format='png', width=300, height=300)\n",
    "wi2 = widgets.Image(format='png', width=300, height=300)\n",
    "sidebyside = widgets.HBox([wi1, wi2])\n",
    "\n",
    "\n",
    "def on_value_change(change):\n",
    "    #with output2, output3:\n",
    "        A = (np.sqrt(xv**2 + yv**2) < int_range.value) & (np.sqrt(xv**2 + yv**2) >= int_range2.value)\n",
    "        A = 1*A.astype(float)\n",
    "        \n",
    "        fB = np.fft.fftshift(np.fft.fft2(B))\n",
    "        fC = fB*A\n",
    "        C = np.fft.ifft2(np.fft.ifftshift(fC))\n",
    "        C = np.abs(C)\n",
    "        \n",
    "        success, frame_bytes = cv2.imencode('.jpeg', C)\n",
    "        wi1.value = frame_bytes.tobytes()\n",
    "        success, frame_bytes = cv2.imencode('.jpeg', np.abs(fC)/100)\n",
    "        wi2.value = frame_bytes.tobytes()\n",
    "        \n",
    "int_range.observe(on_value_change, names='value')\n",
    "int_range2.observe(on_value_change, names='value')\n",
    "\n",
    "on_value_change(0)\n",
    "\n",
    "#display(image)\n",
    "display(sidebyside)\n",
    "display(int_range, output2)\n",
    "display(int_range2, output3)"
   ]
  },
  {
   "cell_type": "code",
   "execution_count": 6,
   "metadata": {},
   "outputs": [],
   "source": []
  },
  {
   "cell_type": "code",
   "execution_count": null,
   "metadata": {},
   "outputs": [],
   "source": []
  }
 ],
 "metadata": {
  "kernelspec": {
   "display_name": "Python 3",
   "language": "python",
   "name": "python3"
  },
  "language_info": {
   "codemirror_mode": {
    "name": "ipython",
    "version": 3
   },
   "file_extension": ".py",
   "mimetype": "text/x-python",
   "name": "python",
   "nbconvert_exporter": "python",
   "pygments_lexer": "ipython3",
   "version": "3.7.3"
  }
 },
 "nbformat": 4,
 "nbformat_minor": 4
}
