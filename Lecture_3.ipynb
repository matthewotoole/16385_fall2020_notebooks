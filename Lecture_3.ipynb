{
 "cells": [
  {
   "cell_type": "code",
   "execution_count": 1,
   "metadata": {},
   "outputs": [],
   "source": [
    "import io\n",
    "import ipywidgets as widgets\n",
    "import matplotlib.pyplot as plt\n",
    "import numpy as np\n",
    "import PIL.Image\n",
    "\n",
    "from IPython.display import display\n",
    "from skimage import io as ioimg"
   ]
  },
  {
   "cell_type": "code",
   "execution_count": 2,
   "metadata": {},
   "outputs": [
    {
     "data": {
      "application/vnd.jupyter.widget-view+json": {
       "model_id": "2f2436048c2e4585a5ed0f3776369538",
       "version_major": 2,
       "version_minor": 0
      },
      "text/plain": [
       "HBox(children=(Image(value=b\"\\x89PNG\\r\\n\\x1a\\n\\x00\\x00\\x00\\rIHDR\\x00\\x00\\x00c\\x00\\x00\\x00c\\x08\\x00\\x00\\x00\\x00…"
      ]
     },
     "metadata": {},
     "output_type": "display_data"
    },
    {
     "data": {
      "application/vnd.jupyter.widget-view+json": {
       "model_id": "82a28d79fa664b1e82e7d189f738668d",
       "version_major": 2,
       "version_minor": 0
      },
      "text/plain": [
       "IntSlider(value=10, description='Rho (pixels)', max=49)"
      ]
     },
     "metadata": {},
     "output_type": "display_data"
    },
    {
     "data": {
      "application/vnd.jupyter.widget-view+json": {
       "model_id": "7f2a82f3adf747089043f89519c6bc89",
       "version_major": 2,
       "version_minor": 0
      },
      "text/plain": [
       "FloatSlider(value=0.0, description='Theta (rads)', max=6.283185307179586, step=0.001)"
      ]
     },
     "metadata": {},
     "output_type": "display_data"
    }
   ],
   "source": [
    "# Image resolution\n",
    "N = 99\n",
    "\n",
    "# Create image widgets\n",
    "image_spatial  = widgets.Image(format='png', width=300, height=300, description='Spatial')\n",
    "image_freq     = widgets.Image(format='png', width=300, height=300, description='Frequency')\n",
    "sidebyside     = widgets.HBox([image_spatial, image_freq])\n",
    "\n",
    "# Create slider widgets\n",
    "slider_rho     = widgets.IntSlider  (value=10, min=0, max=int((N-1)/2),        description='Rho (pixels)')\n",
    "slider_theta   = widgets.FloatSlider(value=0,  min=0, max=2*np.pi, step=0.001, description='Theta (rads)')\n",
    "\n",
    "buf            = io.BytesIO()\n",
    "\n",
    "def example1(change):\n",
    "    rho   = slider_rho.value\n",
    "    theta = slider_theta.value\n",
    "        \n",
    "    x = np.round(rho*np.cos(theta))\n",
    "    y = np.round(rho*np.sin(theta))\n",
    "        \n",
    "    fimg = np.zeros((N, N))\n",
    "    fimg[int(N/2+x), int(N/2+y)] = 0.5\n",
    "    fimg[int(N/2-x), int(N/2-y)] = 0.5\n",
    "    fimg[int(N/2), int(N/2)] = fimg[int(N/2), int(N/2)] + 1\n",
    "        \n",
    "    img = np.fft.ifft2(np.fft.ifftshift(fimg))\n",
    "    \n",
    "    buf.seek(0)\n",
    "    tmp = PIL.Image.fromarray(255*np.abs(img)*(N**2)/2)\n",
    "    tmp = tmp.convert('L')\n",
    "    tmp.save(buf, 'png')\n",
    "    image_spatial.value = buf.getvalue()\n",
    "        \n",
    "    buf.seek(0)\n",
    "    tmp = PIL.Image.fromarray(255*np.abs(fimg))\n",
    "    tmp = tmp.convert('L')\n",
    "    tmp.save(buf, 'png')\n",
    "    image_freq.value = buf.getvalue()\n",
    "\n",
    "                          \n",
    "slider_rho.observe  (example1, names='value')\n",
    "slider_theta.observe(example1, names='value')\n",
    "\n",
    "example1(0)\n",
    "\n",
    "display(sidebyside)\n",
    "display(slider_rho)\n",
    "display(slider_theta)"
   ]
  },
  {
   "cell_type": "code",
   "execution_count": 3,
   "metadata": {},
   "outputs": [
    {
     "data": {
      "application/vnd.jupyter.widget-view+json": {
       "model_id": "22558255790a44b38b8e4e20c660d0d4",
       "version_major": 2,
       "version_minor": 0
      },
      "text/plain": [
       "HBox(children=(Image(value=b'\\x89PNG\\r\\n\\x1a\\n\\x00\\x00\\x00\\rIHDR\\x00\\x00\\x00c\\x00\\x00\\x00c\\x08\\x00\\x00\\x00\\x00…"
      ]
     },
     "metadata": {},
     "output_type": "display_data"
    },
    {
     "data": {
      "application/vnd.jupyter.widget-view+json": {
       "model_id": "e1120bf0d11243789959748fdd587929",
       "version_major": 2,
       "version_minor": 0
      },
      "text/plain": [
       "IntSlider(value=25, description='Size', max=49)"
      ]
     },
     "metadata": {},
     "output_type": "display_data"
    },
    {
     "data": {
      "application/vnd.jupyter.widget-view+json": {
       "model_id": "807852424dc94b329dc8f4276171bdde",
       "version_major": 2,
       "version_minor": 0
      },
      "text/plain": [
       "Select(options=('Box', 'Gaussian'), value='Box')"
      ]
     },
     "metadata": {},
     "output_type": "display_data"
    }
   ],
   "source": [
    "# Image resolution\n",
    "N = 99\n",
    "\n",
    "# Create image widgets\n",
    "image2_spatial = widgets.Image(format='png', width=300, height=300, description='Spatial')\n",
    "image2_freq    = widgets.Image(format='png', width=300, height=300, description='Frequency')\n",
    "sidebyside     = widgets.HBox([image2_spatial, image2_freq])\n",
    "\n",
    "# Create slider/select widgets\n",
    "slider_size    = widgets.IntSlider(value=25, min=0, max=int((N-1)/2), description='Size')\n",
    "select_filter  = widgets.Select(options=['Box', 'Gaussian'], value='Box')\n",
    "\n",
    "buf            = io.BytesIO()\n",
    "\n",
    "def example2(change):\n",
    "    x = slider_size.value\n",
    "    \n",
    "    if (select_filter.value=='Gaussian'):\n",
    "        x = 1/(x+1)\n",
    "        xv, yv = np.meshgrid(np.linspace(-1,1,N), np.linspace(-1,1,N))\n",
    "        img = np.exp(-(xv**2 + yv**2)/(x**2))/x\n",
    "    elif (select_filter.value=='Box'):\n",
    "        img = np.zeros((N,N))\n",
    "        img[int(N/2-x):int(N/2+x+1),int(N/2-x):int(N/2+x+1)] = 1\n",
    "    \n",
    "    fimg = np.fft.fftshift(np.fft.fft2(img))\n",
    "    fimg = np.abs(fimg)\n",
    "        \n",
    "    buf.seek(0)\n",
    "    tmp = PIL.Image.fromarray(255*img/img.max())\n",
    "    tmp = tmp.convert('L')\n",
    "    tmp.save(buf, 'png')\n",
    "    image2_spatial.value = buf.getvalue()\n",
    "\n",
    "    buf.seek(0)\n",
    "    tmp = PIL.Image.fromarray(255*fimg/fimg.max())\n",
    "    tmp = tmp.convert('L')\n",
    "    tmp.save(buf, 'png')\n",
    "    image2_freq.value = buf.getvalue()\n",
    "        \n",
    "\n",
    "slider_size.observe(example2, names='value')\n",
    "select_filter.observe(example2, names='value')\n",
    "\n",
    "example2(0)\n",
    "\n",
    "display(sidebyside)\n",
    "display(slider_size)\n",
    "display(select_filter)"
   ]
  },
  {
   "cell_type": "code",
   "execution_count": 4,
   "metadata": {},
   "outputs": [
    {
     "data": {
      "application/vnd.jupyter.widget-view+json": {
       "model_id": "14df64347f8c41088b119b6b8e52384d",
       "version_major": 2,
       "version_minor": 0
      },
      "text/plain": [
       "HBox(children=(Image(value=b'\\x89PNG\\r\\n\\x1a\\n\\x00\\x00\\x00\\rIHDR\\x00\\x00\\x00\\xec\\x00\\x00\\x00\\xec\\x08\\x00\\x00\\x…"
      ]
     },
     "metadata": {},
     "output_type": "display_data"
    },
    {
     "data": {
      "application/vnd.jupyter.widget-view+json": {
       "model_id": "245712b8b8b14d549cdba990fd859b43",
       "version_major": 2,
       "version_minor": 0
      },
      "text/plain": [
       "FloatSlider(value=0.0, description='Inner radius', max=1.0, step=0.01)"
      ]
     },
     "metadata": {},
     "output_type": "display_data"
    },
    {
     "data": {
      "application/vnd.jupyter.widget-view+json": {
       "model_id": "8123c1e1d0d9460b8b558d0e6bdc1a6e",
       "version_major": 2,
       "version_minor": 0
      },
      "text/plain": [
       "FloatSlider(value=0.72, description='Outer radius', max=0.72, step=0.01)"
      ]
     },
     "metadata": {},
     "output_type": "display_data"
    }
   ],
   "source": [
    "# Create image widgets\n",
    "image3_spatial = widgets.Image(format='png', width=300, height=300, description='Spatial')\n",
    "image3_freq    = widgets.Image(format='png', width=300, height=300, description='Frequency')\n",
    "sidebyside     = widgets.HBox([image3_spatial, image3_freq])\n",
    "\n",
    "# Create slider/select widgets\n",
    "slider_inner   = widgets.FloatSlider(value=0,      min=0, max=1,      step=0.01, description='Inner radius')\n",
    "slider_outer   = widgets.FloatSlider(value=1.44/2, min=0, max=1.44/2, step=0.01, description='Outer radius')\n",
    "\n",
    "buf            = io.BytesIO()\n",
    "\n",
    "orig_img = ioimg.imread('https://raw.githubusercontent.com/matthewotoole/16385_fall2020_notebooks/master/images/scotty.jpg')\n",
    "orig_img = orig_img[:,:,1]\n",
    "\n",
    "x = np.fft.fftfreq(orig_img.shape[0]);\n",
    "y = np.fft.fftfreq(orig_img.shape[1]);\n",
    "\n",
    "xv, yv = np.meshgrid(x, y)\n",
    "xv = np.fft.fftshift(xv)\n",
    "yv = np.fft.fftshift(yv)\n",
    "\n",
    "def on_value_change3(change):\n",
    "    mask = (np.sqrt(xv**2 + yv**2) < slider_outer.value) & \\\n",
    "           (np.sqrt(xv**2 + yv**2) >= slider_inner.value)\n",
    "    mask = np.float32(mask)\n",
    "        \n",
    "    fimg = np.fft.fftshift(np.fft.fft2(orig_img))\n",
    "    fimg = fimg*mask\n",
    "        \n",
    "    img = np.fft.ifft2(np.fft.ifftshift(fimg))\n",
    "    img = np.abs(img)\n",
    "    \n",
    "    fimg = np.abs(fimg)\n",
    "\n",
    "    buf.seek(0)\n",
    "    tmp = PIL.Image.fromarray(255*img/(img.max()+0.01))\n",
    "    tmp = tmp.convert('L')\n",
    "    tmp.save(buf, 'png')\n",
    "    image3_spatial.value = buf.getvalue()\n",
    "    \n",
    "    buf.seek(0)\n",
    "    tmp = PIL.Image.fromarray(255*np.log(0.0001*fimg + 1))\n",
    "    tmp = tmp.convert('L')\n",
    "    tmp.save(buf, 'png')\n",
    "    image3_freq.value = buf.getvalue()\n",
    "\n",
    "    \n",
    "slider_inner.observe(on_value_change3, names='value')\n",
    "slider_outer.observe(on_value_change3, names='value')\n",
    "\n",
    "on_value_change3(0)\n",
    "\n",
    "display(sidebyside)\n",
    "display(slider_inner)\n",
    "display(slider_outer)"
   ]
  },
  {
   "cell_type": "code",
   "execution_count": null,
   "metadata": {},
   "outputs": [],
   "source": []
  },
  {
   "cell_type": "code",
   "execution_count": null,
   "metadata": {},
   "outputs": [],
   "source": []
  }
 ],
 "metadata": {
  "hide_input": false,
  "kernelspec": {
   "display_name": "Python 3",
   "language": "python",
   "name": "python3"
  },
  "language_info": {
   "codemirror_mode": {
    "name": "ipython",
    "version": 3
   },
   "file_extension": ".py",
   "mimetype": "text/x-python",
   "name": "python",
   "nbconvert_exporter": "python",
   "pygments_lexer": "ipython3",
   "version": "3.6.12"
  },
  "latex_envs": {
   "bibliofile": "biblio.bib",
   "cite_by": "apalike",
   "current_citInitial": 1,
   "eqLabelWithNumbers": true,
   "eqNumInitial": 0
  }
 },
 "nbformat": 4,
 "nbformat_minor": 4
}
